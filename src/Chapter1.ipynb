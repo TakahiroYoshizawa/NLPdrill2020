{
 "cells": [
  {
   "cell_type": "markdown",
   "id": "c1dca796-4168-4d57-8f81-94dcb83d76b1",
   "metadata": {},
   "source": [
    "# 第1章: 準備運動"
   ]
  },
  {
   "cell_type": "markdown",
   "id": "13020650-01a8-4d84-bc5f-27031a213a0f",
   "metadata": {},
   "source": [
    "## 00. 文字列の逆順\n",
    "文字列”stressed”の文字を逆に（末尾から先頭に向かって）並べた文字列を得よ．"
   ]
  },
  {
   "cell_type": "code",
   "execution_count": 4,
   "id": "68fd6559-5527-46a9-adf8-0de1d67be59b",
   "metadata": {},
   "outputs": [
    {
     "data": {
      "text/plain": [
       "'desserts'"
      ]
     },
     "execution_count": 4,
     "metadata": {},
     "output_type": "execute_result"
    }
   ],
   "source": [
    "text1 = \"stressed\"\n",
    "text1[::-1]"
   ]
  },
  {
   "cell_type": "markdown",
   "id": "7a542314-1438-4122-9692-1589620cb565",
   "metadata": {},
   "source": [
    "参考：[解答につながるサンプル](https://note.nkmk.me/python-reverse-reversed/#:~:text=%E3%82%B9%E3%83%A9%E3%82%A4%E3%82%B9%E3%82%92%E4%BD%BF%E3%81%A3%E3%81%9F%E6%96%B9%E6%B3%95%E3%81%AF%E3%83%AA%E3%82%B9%E3%83%88%E3%81%A8%E5%90%8C%E3%81%98%E3%80%82%E3%81%93%E3%81%A1%E3%82%89%E3%81%AE%E3%81%BB%E3%81%86%E3%81%8C%E7%B0%A1%E5%8D%98%E3%80%82)"
   ]
  },
  {
   "cell_type": "markdown",
   "id": "74cd2043-a24f-4881-82ee-1cd67e39753d",
   "metadata": {},
   "source": [
    "## 01. 「パタトクカシーー」\n",
    "「パタトクカシーー」という文字列の1,3,5,7文字目を取り出して連結した文字列を得よ．\n",
    "\n"
   ]
  },
  {
   "cell_type": "code",
   "execution_count": 11,
   "id": "70403379-7399-47a8-a914-d703ccc2ccfc",
   "metadata": {},
   "outputs": [
    {
     "data": {
      "text/plain": [
       "'パトカー'"
      ]
     },
     "execution_count": 11,
     "metadata": {},
     "output_type": "execute_result"
    }
   ],
   "source": [
    "text2='パタトクカシーー'\n",
    "text2[1-1]+text2[3-1]+text2[5-1]+text2[7-1]"
   ]
  },
  {
   "cell_type": "code",
   "execution_count": 12,
   "id": "59d54ecd-9168-4f4c-be94-a820a026664b",
   "metadata": {},
   "outputs": [
    {
     "data": {
      "text/plain": [
       "'パトカー'"
      ]
     },
     "execution_count": 12,
     "metadata": {},
     "output_type": "execute_result"
    }
   ],
   "source": [
    "text2[::2]"
   ]
  },
  {
   "cell_type": "code",
   "execution_count": 13,
   "id": "0dbf5ab1-3171-4dac-9013-194912f63118",
   "metadata": {},
   "outputs": [
    {
     "data": {
      "text/plain": [
       "'タクシー'"
      ]
     },
     "execution_count": 13,
     "metadata": {},
     "output_type": "execute_result"
    }
   ],
   "source": [
    "text2[1::2]"
   ]
  },
  {
   "cell_type": "markdown",
   "id": "49296233-f4b0-4c67-8504-7b8d15e6c788",
   "metadata": {},
   "source": [
    "pythonのスライスは、\\[開始位置:終了位置:移動幅\\]である。"
   ]
  },
  {
   "cell_type": "markdown",
   "id": "4b677db5-bc02-478e-9ceb-0311752bfadc",
   "metadata": {},
   "source": [
    "## 02. 「パトカー」＋「タクシー」＝「パタトクカシーー」\n",
    "「パトカー」＋「タクシー」の文字を先頭から交互に連結して文字列「パタトクカシーー」を得よ．"
   ]
  },
  {
   "cell_type": "code",
   "execution_count": 25,
   "id": "18c48b13-f8ca-4b3b-817d-7bba7b893bf9",
   "metadata": {},
   "outputs": [
    {
     "data": {
      "text/plain": [
       "'パタトクカシーー'"
      ]
     },
     "execution_count": 25,
     "metadata": {},
     "output_type": "execute_result"
    }
   ],
   "source": [
    "text3_1='パトカー'\n",
    "text3_2='タクシー'\n",
    "text3=''.join([i+j for i, j in zip(text3_1,text3_2)])\n",
    "text3"
   ]
  },
  {
   "cell_type": "markdown",
   "id": "816a0107-52ee-48d5-bd6c-902671193c07",
   "metadata": {},
   "source": [
    "リスト内包表記で書いているよ"
   ]
  },
  {
   "cell_type": "markdown",
   "id": "6cd86a9d-bac8-4117-94e6-512087c55d2c",
   "metadata": {},
   "source": [
    "## 03. 円周率Permalink\n",
    "“Now I need a drink, alcoholic of course, after the heavy lectures involving quantum mechanics.”という文を単語に分解し，各単語の（アルファベットの）文字数を先頭から出現順に並べたリストを作成せよ．"
   ]
  },
  {
   "cell_type": "code",
   "execution_count": 54,
   "id": "20388d86-058a-424b-81a8-a780d5281774",
   "metadata": {},
   "outputs": [
    {
     "data": {
      "text/plain": [
       "['Now',\n",
       " 'I',\n",
       " 'need',\n",
       " 'a',\n",
       " 'drink,',\n",
       " 'alcoholic',\n",
       " 'of',\n",
       " 'course,',\n",
       " 'after',\n",
       " 'the',\n",
       " 'heavy',\n",
       " 'lectures',\n",
       " 'involving',\n",
       " 'quantum',\n",
       " 'mechanics.']"
      ]
     },
     "execution_count": 54,
     "metadata": {},
     "output_type": "execute_result"
    }
   ],
   "source": [
    "text4='Now I need a drink, alcoholic of course, after the heavy lectures involving quantum mechanics.'\n",
    "text4.split(' ')"
   ]
  },
  {
   "cell_type": "markdown",
   "id": "b0ad0916-c005-4b41-9a6b-c9c1d9c018b4",
   "metadata": {},
   "source": [
    "正規表現で書けば複数で指定できるよ。"
   ]
  },
  {
   "cell_type": "code",
   "execution_count": 60,
   "id": "e85a5056-9ca5-45d9-ae24-a712e6ebc511",
   "metadata": {},
   "outputs": [
    {
     "name": "stdout",
     "output_type": "stream",
     "text": [
      "['Now', 'I', 'need', 'a', 'drink', '', 'alcoholic', 'of', 'course', '', 'after', 'the', 'heavy', 'lectures', 'involving', 'quantum', 'mechanics', '']\n"
     ]
    },
    {
     "data": {
      "text/plain": [
       "[3, 1, 4, 1, 5, 0, 9, 2, 6, 0, 5, 3, 5, 8, 9, 7, 9, 0]"
      ]
     },
     "execution_count": 60,
     "metadata": {},
     "output_type": "execute_result"
    }
   ],
   "source": [
    "import re\n",
    "wordlist4 = re.split('[ ,.]', text4)\n",
    "print(wordlist4)\n",
    "[len(i) for i in wordlist4]"
   ]
  },
  {
   "cell_type": "code",
   "execution_count": 70,
   "id": "61dc71b1-e10b-40ab-9d52-2d7c94d20c56",
   "metadata": {},
   "outputs": [
    {
     "name": "stdout",
     "output_type": "stream",
     "text": [
      "Now I need a drink alcoholic of course after the heavy lectures involving quantum mechanics\n",
      "['Now', 'I', 'need', 'a', 'drink', 'alcoholic', 'of', 'course', 'after', 'the', 'heavy', 'lectures', 'involving', 'quantum', 'mechanics']\n"
     ]
    },
    {
     "data": {
      "text/plain": [
       "[3, 1, 4, 1, 5, 9, 2, 6, 5, 3, 5, 8, 9, 7, 9]"
      ]
     },
     "execution_count": 70,
     "metadata": {},
     "output_type": "execute_result"
    }
   ],
   "source": [
    "text4_1 = re.sub('[,.]', '', text4)\n",
    "print(text4_1)\n",
    "wordlist4_1 = re.split(' ', text4_1)\n",
    "print(wordlist4_1)\n",
    "[len(i) for i in wordlist4_1]"
   ]
  },
  {
   "cell_type": "code",
   "execution_count": null,
   "id": "2bf63ced-5eb7-4833-b785-746dff97cdf5",
   "metadata": {},
   "outputs": [],
   "source": []
  }
 ],
 "metadata": {
  "kernelspec": {
   "display_name": "Python 3 (ipykernel)",
   "language": "python",
   "name": "python3"
  },
  "language_info": {
   "codemirror_mode": {
    "name": "ipython",
    "version": 3
   },
   "file_extension": ".py",
   "mimetype": "text/x-python",
   "name": "python",
   "nbconvert_exporter": "python",
   "pygments_lexer": "ipython3",
   "version": "3.11.1"
  }
 },
 "nbformat": 4,
 "nbformat_minor": 5
}
