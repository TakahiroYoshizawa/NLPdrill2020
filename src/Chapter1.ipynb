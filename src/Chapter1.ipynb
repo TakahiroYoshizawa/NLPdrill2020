{
 "cells": [
  {
   "cell_type": "markdown",
   "id": "c1dca796-4168-4d57-8f81-94dcb83d76b1",
   "metadata": {
    "editable": true,
    "slideshow": {
     "slide_type": ""
    },
    "tags": []
   },
   "source": [
    "# 第1章: 準備運動"
   ]
  },
  {
   "cell_type": "markdown",
   "id": "13020650-01a8-4d84-bc5f-27031a213a0f",
   "metadata": {},
   "source": [
    "## 00. 文字列の逆順\n",
    "文字列”stressed”の文字を逆に（末尾から先頭に向かって）並べた文字列を得よ．"
   ]
  },
  {
   "cell_type": "code",
   "execution_count": 4,
   "id": "68fd6559-5527-46a9-adf8-0de1d67be59b",
   "metadata": {},
   "outputs": [
    {
     "data": {
      "text/plain": [
       "'desserts'"
      ]
     },
     "execution_count": 4,
     "metadata": {},
     "output_type": "execute_result"
    }
   ],
   "source": [
    "text1 = \"stressed\"\n",
    "text1[::-1]"
   ]
  },
  {
   "cell_type": "markdown",
   "id": "7a542314-1438-4122-9692-1589620cb565",
   "metadata": {},
   "source": [
    "参考：[解答につながるサンプル](https://note.nkmk.me/python-reverse-reversed/#:~:text=%E3%82%B9%E3%83%A9%E3%82%A4%E3%82%B9%E3%82%92%E4%BD%BF%E3%81%A3%E3%81%9F%E6%96%B9%E6%B3%95%E3%81%AF%E3%83%AA%E3%82%B9%E3%83%88%E3%81%A8%E5%90%8C%E3%81%98%E3%80%82%E3%81%93%E3%81%A1%E3%82%89%E3%81%AE%E3%81%BB%E3%81%86%E3%81%8C%E7%B0%A1%E5%8D%98%E3%80%82)"
   ]
  },
  {
   "cell_type": "markdown",
   "id": "74cd2043-a24f-4881-82ee-1cd67e39753d",
   "metadata": {},
   "source": [
    "## 01. 「パタトクカシーー」\n",
    "「パタトクカシーー」という文字列の1,3,5,7文字目を取り出して連結した文字列を得よ．\n",
    "\n"
   ]
  },
  {
   "cell_type": "code",
   "execution_count": 11,
   "id": "70403379-7399-47a8-a914-d703ccc2ccfc",
   "metadata": {},
   "outputs": [
    {
     "data": {
      "text/plain": [
       "'パトカー'"
      ]
     },
     "execution_count": 11,
     "metadata": {},
     "output_type": "execute_result"
    }
   ],
   "source": [
    "text2='パタトクカシーー'\n",
    "text2[1-1]+text2[3-1]+text2[5-1]+text2[7-1]"
   ]
  },
  {
   "cell_type": "code",
   "execution_count": 12,
   "id": "59d54ecd-9168-4f4c-be94-a820a026664b",
   "metadata": {},
   "outputs": [
    {
     "data": {
      "text/plain": [
       "'パトカー'"
      ]
     },
     "execution_count": 12,
     "metadata": {},
     "output_type": "execute_result"
    }
   ],
   "source": [
    "text2[::2]"
   ]
  },
  {
   "cell_type": "code",
   "execution_count": 13,
   "id": "0dbf5ab1-3171-4dac-9013-194912f63118",
   "metadata": {},
   "outputs": [
    {
     "data": {
      "text/plain": [
       "'タクシー'"
      ]
     },
     "execution_count": 13,
     "metadata": {},
     "output_type": "execute_result"
    }
   ],
   "source": [
    "text2[1::2]"
   ]
  },
  {
   "cell_type": "markdown",
   "id": "49296233-f4b0-4c67-8504-7b8d15e6c788",
   "metadata": {},
   "source": [
    "pythonのスライスは、\\[開始位置:終了位置:移動幅\\]である。"
   ]
  },
  {
   "cell_type": "markdown",
   "id": "4b677db5-bc02-478e-9ceb-0311752bfadc",
   "metadata": {},
   "source": [
    "## 02. 「パトカー」＋「タクシー」＝「パタトクカシーー」\n",
    "「パトカー」＋「タクシー」の文字を先頭から交互に連結して文字列「パタトクカシーー」を得よ．"
   ]
  },
  {
   "cell_type": "code",
   "execution_count": 25,
   "id": "18c48b13-f8ca-4b3b-817d-7bba7b893bf9",
   "metadata": {},
   "outputs": [
    {
     "data": {
      "text/plain": [
       "'パタトクカシーー'"
      ]
     },
     "execution_count": 25,
     "metadata": {},
     "output_type": "execute_result"
    }
   ],
   "source": [
    "text3_1='パトカー'\n",
    "text3_2='タクシー'\n",
    "text3=''.join([i+j for i, j in zip(text3_1,text3_2)])\n",
    "text3"
   ]
  },
  {
   "cell_type": "markdown",
   "id": "816a0107-52ee-48d5-bd6c-902671193c07",
   "metadata": {},
   "source": [
    "リスト内包表記で書いているよ"
   ]
  },
  {
   "cell_type": "markdown",
   "id": "6cd86a9d-bac8-4117-94e6-512087c55d2c",
   "metadata": {},
   "source": [
    "## 03. 円周率Permalink\n",
    "“Now I need a drink, alcoholic of course, after the heavy lectures involving quantum mechanics.”という文を単語に分解し，各単語の（アルファベットの）文字数を先頭から出現順に並べたリストを作成せよ．"
   ]
  },
  {
   "cell_type": "code",
   "execution_count": 54,
   "id": "20388d86-058a-424b-81a8-a780d5281774",
   "metadata": {},
   "outputs": [
    {
     "data": {
      "text/plain": [
       "['Now',\n",
       " 'I',\n",
       " 'need',\n",
       " 'a',\n",
       " 'drink,',\n",
       " 'alcoholic',\n",
       " 'of',\n",
       " 'course,',\n",
       " 'after',\n",
       " 'the',\n",
       " 'heavy',\n",
       " 'lectures',\n",
       " 'involving',\n",
       " 'quantum',\n",
       " 'mechanics.']"
      ]
     },
     "execution_count": 54,
     "metadata": {},
     "output_type": "execute_result"
    }
   ],
   "source": [
    "text4='Now I need a drink, alcoholic of course, after the heavy lectures involving quantum mechanics.'\n",
    "text4.split(' ')"
   ]
  },
  {
   "cell_type": "markdown",
   "id": "b0ad0916-c005-4b41-9a6b-c9c1d9c018b4",
   "metadata": {},
   "source": [
    "正規表現で書けば複数で指定できるよ。"
   ]
  },
  {
   "cell_type": "code",
   "execution_count": 60,
   "id": "e85a5056-9ca5-45d9-ae24-a712e6ebc511",
   "metadata": {},
   "outputs": [
    {
     "name": "stdout",
     "output_type": "stream",
     "text": [
      "['Now', 'I', 'need', 'a', 'drink', '', 'alcoholic', 'of', 'course', '', 'after', 'the', 'heavy', 'lectures', 'involving', 'quantum', 'mechanics', '']\n"
     ]
    },
    {
     "data": {
      "text/plain": [
       "[3, 1, 4, 1, 5, 0, 9, 2, 6, 0, 5, 3, 5, 8, 9, 7, 9, 0]"
      ]
     },
     "execution_count": 60,
     "metadata": {},
     "output_type": "execute_result"
    }
   ],
   "source": [
    "import re\n",
    "wordlist4 = re.split('[ ,.]', text4)\n",
    "print(wordlist4)\n",
    "[len(i) for i in wordlist4]"
   ]
  },
  {
   "cell_type": "code",
   "execution_count": 70,
   "id": "61dc71b1-e10b-40ab-9d52-2d7c94d20c56",
   "metadata": {},
   "outputs": [
    {
     "name": "stdout",
     "output_type": "stream",
     "text": [
      "Now I need a drink alcoholic of course after the heavy lectures involving quantum mechanics\n",
      "['Now', 'I', 'need', 'a', 'drink', 'alcoholic', 'of', 'course', 'after', 'the', 'heavy', 'lectures', 'involving', 'quantum', 'mechanics']\n"
     ]
    },
    {
     "data": {
      "text/plain": [
       "[3, 1, 4, 1, 5, 9, 2, 6, 5, 3, 5, 8, 9, 7, 9]"
      ]
     },
     "execution_count": 70,
     "metadata": {},
     "output_type": "execute_result"
    }
   ],
   "source": [
    "text4_1 = re.sub('[,.]', '', text4)\n",
    "print(text4_1)\n",
    "wordlist4_1 = re.split(' ', text4_1)\n",
    "print(wordlist4_1)\n",
    "[len(i) for i in wordlist4_1]"
   ]
  },
  {
   "cell_type": "markdown",
   "id": "3fff2686-4137-4e76-b901-5935d29d0e22",
   "metadata": {},
   "source": [
    "## 04. 元素記号\n",
    "“Hi He Lied Because Boron Could Not Oxidize Fluorine. New Nations Might Also Sign Peace Security Clause. Arthur King Can.”という文を単語に分解し，1, 5, 6, 7, 8, 9, 15, 16, 19番目の単語は先頭の1文字，それ以外の単語は先頭の2文字を取り出し，取り出した文字列から単語の位置（先頭から何番目の単語か）への連想配列（辞書型もしくはマップ型）を作成せよ．"
   ]
  },
  {
   "cell_type": "code",
   "execution_count": 19,
   "id": "69d29d2a-216c-433b-bb69-76a7661b350b",
   "metadata": {},
   "outputs": [
    {
     "data": {
      "text/plain": [
       "{1: 'H',\n",
       " 2: 'He',\n",
       " 3: 'Li',\n",
       " 4: 'Be',\n",
       " 5: 'B',\n",
       " 6: 'C',\n",
       " 7: 'N',\n",
       " 8: 'O',\n",
       " 9: 'F',\n",
       " 10: 'Ne',\n",
       " 11: 'Na',\n",
       " 12: 'Mi',\n",
       " 13: 'Al',\n",
       " 14: 'Si',\n",
       " 15: 'P',\n",
       " 16: 'S',\n",
       " 17: 'Cl',\n",
       " 18: 'Ar',\n",
       " 19: 'K',\n",
       " 20: 'Ca'}"
      ]
     },
     "execution_count": 19,
     "metadata": {},
     "output_type": "execute_result"
    }
   ],
   "source": [
    "import re\n",
    "text5 = 'Hi He Lied Because Boron Could Not Oxidize Fluorine. New Nations Might Also Sign Peace Security Clause. Arthur King Can.'\n",
    "\n",
    "#.を削除した上で、' 'で分割\n",
    "text5_1 = re.sub('[.]', '', text5)\n",
    "wordlist5 = re.split(' ', text5_1)\n",
    "\n",
    "#1, 5, 6, 7, 8, 9, 15, 16, 19番目の単語は先頭の1文字，それ以外の単語は先頭の2文字を取り出し、リスト作成の上で辞書型に落とす\n",
    "symbollist = []\n",
    "for i in range(1,21):\n",
    "    if i in [1, 5, 6, 7, 8, 9, 15, 16, 19]:\n",
    "        symbol = wordlist5[i-1][:1]\n",
    "        symbollist.append(symbol)\n",
    "    else:\n",
    "        symbol = wordlist5[i-1][:2]\n",
    "        symbollist.append(symbol)\n",
    "symboldic = dict(zip(range(1,21),symbollist))\n",
    "symboldic"
   ]
  },
  {
   "cell_type": "markdown",
   "id": "113fbbe9-f925-4a32-b365-8c519ab34e7d",
   "metadata": {},
   "source": [
    "## 05. n-gram\n",
    "与えられたシーケンス（文字列やリストなど）からn-gramを作る関数を作成せよ．この関数を用い，”I am an NLPer”という文から単語bi-gram，文字bi-gramを得よ．"
   ]
  },
  {
   "cell_type": "code",
   "execution_count": 45,
   "id": "8de24916-8a2f-428c-bbfc-360bb47c0dab",
   "metadata": {
    "editable": true,
    "slideshow": {
     "slide_type": ""
    },
    "tags": []
   },
   "outputs": [
    {
     "data": {
      "text/plain": [
       "[['I', ' '],\n",
       " [' ', 'a'],\n",
       " ['a', 'm'],\n",
       " ['m', ' '],\n",
       " [' ', 'a'],\n",
       " ['a', 'n'],\n",
       " ['n', ' '],\n",
       " [' ', 'N'],\n",
       " ['N', 'L'],\n",
       " ['L', 'P'],\n",
       " ['P', 'e'],\n",
       " ['e', 'r']]"
      ]
     },
     "execution_count": 45,
     "metadata": {},
     "output_type": "execute_result"
    }
   ],
   "source": [
    "import re\n",
    "text_6 = \"I am an NLPer\"\n",
    "\n",
    "def n_gram(text:str, mode:str, n:int):\n",
    "    if mode == 'word':\n",
    "        wordlist = re.split(' ',text)\n",
    "        n_gram = [wordlist[i:i+n] for i in range(len(wordlist)-n+1)]\n",
    "    elif mode == 'char':\n",
    "        charlist = re.split('', text) \n",
    "        n_gram = [charlist[i:i+n] for i in range(1,len(charlist)-n)]       \n",
    "    else:\n",
    "        raise ValueError(\"無効なモードです。'word'または'char'を指定してください。\")\n",
    "    return n_gram\n",
    "\n",
    "# n_gram(text_6, 'word', 2)\n",
    "n_gram(text_6, 'char', 2)\n",
    "# n_gram(text_6, 'world', 2)\n",
    "\n"
   ]
  },
  {
   "cell_type": "code",
   "execution_count": 44,
   "id": "4677c7ad-2b8e-4c51-9170-732de71cd716",
   "metadata": {},
   "outputs": [
    {
     "name": "stdout",
     "output_type": "stream",
     "text": [
      "Thi\n",
      "his\n",
      "is \n",
      "s i\n",
      " is\n",
      "is \n",
      "s a\n",
      " an\n",
      "an \n",
      "n e\n",
      " ex\n",
      "exa\n",
      "xam\n",
      "amp\n",
      "mpl\n",
      "ple\n",
      "le \n",
      "e f\n",
      " fo\n",
      "for\n",
      "or \n",
      "r n\n",
      " n-\n",
      "n-g\n",
      "-gr\n",
      "gra\n",
      "ram\n",
      "am \n",
      "m c\n",
      " cr\n",
      "cre\n",
      "rea\n",
      "eat\n",
      "ati\n",
      "tio\n",
      "ion\n"
     ]
    }
   ],
   "source": [
    "def create_ngram(text, n, mode=\"word\"):\n",
    "    if mode == \"word\":\n",
    "        tokens = text.split()\n",
    "    elif mode == \"char\":\n",
    "        tokens = list(text)\n",
    "    else:\n",
    "        raise ValueError(\"無効なモードです。'word'または'char'を指定してください。\")\n",
    "    \n",
    "    ngrams = []\n",
    "    \n",
    "    for i in range(len(tokens) - n + 1):\n",
    "        ngram = tokens[i:i + n]\n",
    "        if mode == \"word\":\n",
    "            ngram = \" \".join(ngram)\n",
    "        else:\n",
    "            ngram = \"\".join(ngram)\n",
    "        ngrams.append(ngram)\n",
    "    \n",
    "    return ngrams\n",
    "\n",
    "input_text = \"This is an example for n-gram creation\"\n",
    "\n",
    "# ngrams = create_ngram(input_text, n)\n",
    "# for ngram in ngrams:\n",
    "#     print(ngram)\n",
    "\n",
    "n = 3  # 3-gramを作成する場合\n",
    "mode = \"char\"  # 文字 n-gramを作成する場合\n",
    "\n",
    "ngrams = create_ngram(input_text, n, mode)\n",
    "for ngram in ngrams:\n",
    "    print(ngram)"
   ]
  },
  {
   "cell_type": "markdown",
   "id": "661f07da-a301-4be2-a0a7-8711539beda5",
   "metadata": {},
   "source": [
    "## 06. 集合\n",
    "“paraparaparadise”と”paragraph”に含まれる文字bi-gramの集合を，それぞれ, XとYとして求め，XとYの和集合，積集合，差集合を求めよ．さらに，’se’というbi-gramがXおよびYに含まれるかどうかを調べよ．"
   ]
  },
  {
   "cell_type": "code",
   "execution_count": null,
   "id": "40a84879-601b-483c-9db1-ad323bf6f166",
   "metadata": {},
   "outputs": [],
   "source": [
    "text6_1='paraparaparadise'\n",
    "text6_2='paragraph'\n",
    "\n",
    "ngram6_1 = create_ngram(text6_1, 2, 'char')\n",
    "ngram6_2 = create_ngram(text6_2, 2, 'char')\n",
    "\n",
    "print(ngram6_1)\n",
    "print(ngram6_2)"
   ]
  },
  {
   "cell_type": "code",
   "execution_count": 52,
   "id": "a57f2252-471c-4f55-9ed8-97f44cc247d6",
   "metadata": {},
   "outputs": [
    {
     "data": {
      "text/plain": [
       "{'ad', 'ag', 'ap', 'ar', 'di', 'gr', 'is', 'pa', 'ph', 'ra', 'se'}"
      ]
     },
     "execution_count": 52,
     "metadata": {},
     "output_type": "execute_result"
    }
   ],
   "source": [
    "#和集合\n",
    "set(ngram6_1)|set(ngram6_2)"
   ]
  },
  {
   "cell_type": "code",
   "execution_count": 53,
   "id": "34ea157c-ecfe-4541-98cd-c2c927c981e6",
   "metadata": {},
   "outputs": [
    {
     "data": {
      "text/plain": [
       "{'ap', 'ar', 'pa', 'ra'}"
      ]
     },
     "execution_count": 53,
     "metadata": {},
     "output_type": "execute_result"
    }
   ],
   "source": [
    "#積集合\n",
    "set(ngram6_1)&set(ngram6_2)"
   ]
  },
  {
   "cell_type": "code",
   "execution_count": 54,
   "id": "9aa2c0a5-eb6d-4b90-8ff9-68851caad1d6",
   "metadata": {},
   "outputs": [
    {
     "data": {
      "text/plain": [
       "{'ad', 'di', 'is', 'se'}"
      ]
     },
     "execution_count": 54,
     "metadata": {},
     "output_type": "execute_result"
    }
   ],
   "source": [
    "#差集合\n",
    "set(ngram6_1)-set(ngram6_2)"
   ]
  },
  {
   "cell_type": "code",
   "execution_count": 58,
   "id": "7d094d70-599a-45ec-8268-23d0dd12853b",
   "metadata": {},
   "outputs": [
    {
     "data": {
      "text/plain": [
       "{'se'}"
      ]
     },
     "execution_count": 58,
     "metadata": {},
     "output_type": "execute_result"
    }
   ],
   "source": [
    "{'se'}&(set(ngram6_1)|set(ngram6_2))"
   ]
  },
  {
   "cell_type": "markdown",
   "id": "28c6aea8-5728-457c-8eb6-d21ab3c81166",
   "metadata": {},
   "source": [
    "## 07. テンプレートによる文生成\n",
    "引数x, y, zを受け取り「x時のyはz」という文字列を返す関数を実装せよ．さらに，x=12, y=”気温”, z=22.4として，実行結果を確認せよ"
   ]
  },
  {
   "cell_type": "code",
   "execution_count": 59,
   "id": "a4fedcdd-2363-4383-87f4-ac1e613cc66d",
   "metadata": {},
   "outputs": [
    {
     "data": {
      "text/plain": [
       "'12時の気温は22.4'"
      ]
     },
     "execution_count": 59,
     "metadata": {},
     "output_type": "execute_result"
    }
   ],
   "source": [
    "def generate_message(x, y, z):\n",
    "    message = str(x)+'時の'+str(y)+'は'+str(z)\n",
    "    return message\n",
    "\n",
    "x = 12\n",
    "y = '気温'\n",
    "z = 22.4\n",
    "\n",
    "generate_message(x, y, z)"
   ]
  },
  {
   "cell_type": "markdown",
   "id": "165445e9-e282-4f87-9157-f6e4de5a2aba",
   "metadata": {},
   "source": [
    "## 08. 暗号文\n",
    "与えられた文字列の各文字を，以下の仕様で変換する関数cipherを実装せよ．\n",
    "- 英小文字ならば(219 - 文字コード)の文字に置換\n",
    "- その他の文字はそのまま出力\n",
    "\n",
    "この関数を用い，英語のメッセージを暗号化・復号化せよ"
   ]
  },
  {
   "cell_type": "code",
   "execution_count": 71,
   "id": "ba5b2eb0-60a8-4451-90c7-eb25ecd45222",
   "metadata": {},
   "outputs": [
    {
     "data": {
      "text/plain": [
       "'aLphabeT'"
      ]
     },
     "execution_count": 71,
     "metadata": {},
     "output_type": "execute_result"
    }
   ],
   "source": [
    "def cipher(text:str):\n",
    "    encodedtext = ''\n",
    "    for i in text:\n",
    "        if str.islower(i) == True:\n",
    "            i = chr(219-ord(i))\n",
    "            encodedtext = encodedtext+i\n",
    "        else:\n",
    "            encodedtext = encodedtext+i\n",
    "    return encodedtext    \n",
    "    \n",
    "cipher('aLphabeT')\n",
    "cipher('zLkszyvT')"
   ]
  },
  {
   "cell_type": "code",
   "execution_count": 69,
   "id": "60513767-6fc4-4c93-b24c-70b020253185",
   "metadata": {},
   "outputs": [
    {
     "name": "stdout",
     "output_type": "stream",
     "text": [
      "暗号化されたメッセージ: Tsrh rh z hvxivg nvhhztv.\n",
      "復号化されたメッセージ: This is a secret message.\n"
     ]
    }
   ],
   "source": [
    "def cipher(text):\n",
    "    encrypted_text = \"\"\n",
    "    for char in text:\n",
    "        if char.islower():\n",
    "            encrypted_char = chr(219 - ord(char))\n",
    "            encrypted_text += encrypted_char\n",
    "        else:\n",
    "            encrypted_text += char\n",
    "    return encrypted_text\n",
    "\n",
    "# メッセージを暗号化\n",
    "original_message = \"This is a secret message.\"\n",
    "encrypted_message = cipher(original_message)\n",
    "print(\"暗号化されたメッセージ:\", encrypted_message)\n",
    "\n",
    "# 暗号化されたメッセージを復号化\n",
    "decrypted_message = cipher(encrypted_message)\n",
    "print(\"復号化されたメッセージ:\", decrypted_message)"
   ]
  },
  {
   "cell_type": "markdown",
   "id": "5131ef26-48f7-42a6-8fab-09fa7ded0d19",
   "metadata": {},
   "source": [
    "## 09. Typoglycemia\n",
    "スペースで区切られた単語列に対して，各単語の先頭と末尾の文字は残し，それ以外の文字の順序をランダムに並び替えるプログラムを作成せよ．ただし，長さが４以下の単語は並び替えないこととする．適当な英語の文（例えば”I couldn’t believe that I could actually understand what I was reading : the phenomenal power of the human mind .”）を与え，その実行結果を確認せよ．"
   ]
  },
  {
   "cell_type": "code",
   "execution_count": 134,
   "id": "6cf4606f-ba6c-4512-9afd-e9d0a13b5451",
   "metadata": {},
   "outputs": [
    {
     "data": {
      "text/plain": [
       "'I c’dnluot believe that I could aalctuly usrdnetand what I was reinadg : the pmehenaonl poewr of the hamun mind .'"
      ]
     },
     "execution_count": 134,
     "metadata": {},
     "output_type": "execute_result"
    }
   ],
   "source": [
    "import random\n",
    "\n",
    "text9 = 'I couldn’t believe that I could actually understand what I was reading : the phenomenal power of the human mind .'\n",
    "\n",
    "def typoglycemia_sentences(text):\n",
    "    wordlist = re.split('[ ]', text)\n",
    "    shuffled_wordlist = []\n",
    "    for word in wordlist:\n",
    "        if len(word) > 4:\n",
    "            charlist = re.split('',word[1:-1])[1:-1]\n",
    "            typoword = word[0]+''.join(random.sample(charlist, len(charlist)))+word[-1]\n",
    "            shuffled_wordlist.append(typoword)\n",
    "        else:\n",
    "            shuffled_wordlist.append(word)\n",
    "    typo_sentences = ' '.join(shuffled_wordlist)\n",
    "    return typo_sentences\n",
    "\n",
    "typoglycemia_sentences(text9)\n",
    "\n",
    "\n"
   ]
  },
  {
   "cell_type": "code",
   "execution_count": 135,
   "id": "97db6a42-251c-48a3-9fa8-50bada394909",
   "metadata": {},
   "outputs": [
    {
     "name": "stdout",
     "output_type": "stream",
     "text": [
      "元の文: I couldn't believe that I could actually understand what I was reading : the phenomenal power of the human mind .\n",
      "並び替えた文: I cnolu'dt bvleiee that I colud atlluacy unatsedrnd what I was rndieag : the peonaenmhl poewr of the haumn mind .\n"
     ]
    }
   ],
   "source": [
    "import random\n",
    "\n",
    "def shuffle_word(word):\n",
    "    if len(word) <= 4:\n",
    "        return word\n",
    "    else:\n",
    "        first_char = word[0]\n",
    "        last_char = word[-1]\n",
    "        middle_chars = list(word[1:-1])\n",
    "        random.shuffle(middle_chars)\n",
    "        shuffled_word = first_char + ''.join(middle_chars) + last_char\n",
    "        return shuffled_word\n",
    "\n",
    "def shuffle_text(text):\n",
    "    words = text.split()\n",
    "    shuffled_words = [shuffle_word(word) for word in words]\n",
    "    shuffled_text = ' '.join(shuffled_words)\n",
    "    return shuffled_text\n",
    "\n",
    "original_text = \"I couldn't believe that I could actually understand what I was reading : the phenomenal power of the human mind .\"\n",
    "shuffled_text = shuffle_text(original_text)\n",
    "\n",
    "print(\"元の文:\", original_text)\n",
    "print(\"並び替えた文:\", shuffled_text)"
   ]
  },
  {
   "cell_type": "code",
   "execution_count": null,
   "id": "ef1f1c05-cca6-4280-ba8c-f3909ad3ddac",
   "metadata": {},
   "outputs": [],
   "source": []
  }
 ],
 "metadata": {
  "kernelspec": {
   "display_name": "Python 3 (ipykernel)",
   "language": "python",
   "name": "python3"
  },
  "language_info": {
   "codemirror_mode": {
    "name": "ipython",
    "version": 3
   },
   "file_extension": ".py",
   "mimetype": "text/x-python",
   "name": "python",
   "nbconvert_exporter": "python",
   "pygments_lexer": "ipython3",
   "version": "3.11.1"
  }
 },
 "nbformat": 4,
 "nbformat_minor": 5
}
